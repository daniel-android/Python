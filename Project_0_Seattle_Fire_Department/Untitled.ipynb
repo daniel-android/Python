{
 "cells": [
  {
   "cell_type": "code",
   "execution_count": 1,
   "id": "d8ce3818",
   "metadata": {},
   "outputs": [],
   "source": [
    "#Public Domain Data set: 911 calls - Seattle Fire Department\n",
    "#Available at: https://data.seattle.gov/Public-Safety/Seattle-Real-Time-Fire-911-Calls/kzjm-xkqj\n",
    "\n",
    "#Why is this data set important?\n",
    "#By doing analysis of this dataset we could try to understand whether emergency response \n",
    "#team is well equipped to deal with emergencies or not. We could also get to know about the \n",
    "#frequency of emergency."
   ]
  },
  {
   "cell_type": "code",
   "execution_count": 2,
   "id": "d6708e81",
   "metadata": {},
   "outputs": [],
   "source": [
    "import numpy as np\n",
    "import pandas as pd\n",
    "from datetime import datetime \n",
    "import matplotlib.pyplot as plt\n",
    "import seaborn as sns\n",
    "from IPython.display import Latex\n",
    "import gc\n",
    "\n",
    "#function for in-notebook display\n",
    "%matplotlib inline                 "
   ]
  },
  {
   "cell_type": "code",
   "execution_count": 3,
   "id": "517cad7d",
   "metadata": {},
   "outputs": [],
   "source": [
    "#Loading the dataset\n",
    "Df = pd.read_csv('Seattle_Real_Time_Fire_911_Calls.csv')"
   ]
  },
  {
   "cell_type": "code",
   "execution_count": 4,
   "id": "c731ceca",
   "metadata": {},
   "outputs": [
    {
     "data": {
      "text/html": [
       "<div>\n",
       "<style scoped>\n",
       "    .dataframe tbody tr th:only-of-type {\n",
       "        vertical-align: middle;\n",
       "    }\n",
       "\n",
       "    .dataframe tbody tr th {\n",
       "        vertical-align: top;\n",
       "    }\n",
       "\n",
       "    .dataframe thead th {\n",
       "        text-align: right;\n",
       "    }\n",
       "</style>\n",
       "<table border=\"1\" class=\"dataframe\">\n",
       "  <thead>\n",
       "    <tr style=\"text-align: right;\">\n",
       "      <th></th>\n",
       "      <th>Address</th>\n",
       "      <th>Type</th>\n",
       "      <th>Datetime</th>\n",
       "      <th>Latitude</th>\n",
       "      <th>Longitude</th>\n",
       "      <th>Report Location</th>\n",
       "      <th>Incident Number</th>\n",
       "    </tr>\n",
       "  </thead>\n",
       "  <tbody>\n",
       "    <tr>\n",
       "      <th>0</th>\n",
       "      <td>904 7th Av</td>\n",
       "      <td>Car Fire</td>\n",
       "      <td>05/22/2019 12:55:00 PM</td>\n",
       "      <td>47.606900</td>\n",
       "      <td>-122.329051</td>\n",
       "      <td>POINT (-122.329051 47.6069)</td>\n",
       "      <td>F190051945</td>\n",
       "    </tr>\n",
       "    <tr>\n",
       "      <th>1</th>\n",
       "      <td>9610 53rd Av S</td>\n",
       "      <td>Aid Response</td>\n",
       "      <td>05/22/2019 12:55:00 PM</td>\n",
       "      <td>47.515984</td>\n",
       "      <td>-122.266529</td>\n",
       "      <td>POINT (-122.266529 47.515984)</td>\n",
       "      <td>F190051946</td>\n",
       "    </tr>\n",
       "    <tr>\n",
       "      <th>2</th>\n",
       "      <td>106 Pike St</td>\n",
       "      <td>Aid Response</td>\n",
       "      <td>05/22/2019 12:57:00 PM</td>\n",
       "      <td>47.608849</td>\n",
       "      <td>-122.339945</td>\n",
       "      <td>POINT (-122.339945 47.608849)</td>\n",
       "      <td>F190051950</td>\n",
       "    </tr>\n",
       "    <tr>\n",
       "      <th>3</th>\n",
       "      <td>1902 2nd Av</td>\n",
       "      <td>Aid Response</td>\n",
       "      <td>07/01/2019 07:45:00 AM</td>\n",
       "      <td>47.610972</td>\n",
       "      <td>-122.340465</td>\n",
       "      <td>POINT (-122.340465 47.610972)</td>\n",
       "      <td>F190068848</td>\n",
       "    </tr>\n",
       "    <tr>\n",
       "      <th>4</th>\n",
       "      <td>4737 Roosevelt Way Ne</td>\n",
       "      <td>Unk Odor</td>\n",
       "      <td>07/01/2019 07:45:00 AM</td>\n",
       "      <td>47.663338</td>\n",
       "      <td>-122.317421</td>\n",
       "      <td>POINT (-122.317421 47.663338)</td>\n",
       "      <td>F190068849</td>\n",
       "    </tr>\n",
       "  </tbody>\n",
       "</table>\n",
       "</div>"
      ],
      "text/plain": [
       "                 Address          Type                Datetime   Latitude  \\\n",
       "0             904 7th Av      Car Fire  05/22/2019 12:55:00 PM  47.606900   \n",
       "1         9610 53rd Av S  Aid Response  05/22/2019 12:55:00 PM  47.515984   \n",
       "2            106 Pike St  Aid Response  05/22/2019 12:57:00 PM  47.608849   \n",
       "3            1902 2nd Av  Aid Response  07/01/2019 07:45:00 AM  47.610972   \n",
       "4  4737 Roosevelt Way Ne      Unk Odor  07/01/2019 07:45:00 AM  47.663338   \n",
       "\n",
       "    Longitude                Report Location Incident Number  \n",
       "0 -122.329051    POINT (-122.329051 47.6069)      F190051945  \n",
       "1 -122.266529  POINT (-122.266529 47.515984)      F190051946  \n",
       "2 -122.339945  POINT (-122.339945 47.608849)      F190051950  \n",
       "3 -122.340465  POINT (-122.340465 47.610972)      F190068848  \n",
       "4 -122.317421  POINT (-122.317421 47.663338)      F190068849  "
      ]
     },
     "execution_count": 4,
     "metadata": {},
     "output_type": "execute_result"
    }
   ],
   "source": [
    "Df.head()"
   ]
  },
  {
   "cell_type": "code",
   "execution_count": 5,
   "id": "f007ebe8",
   "metadata": {},
   "outputs": [
    {
     "name": "stdout",
     "output_type": "stream",
     "text": [
      "<class 'pandas.core.frame.DataFrame'>\n",
      "RangeIndex: 1823060 entries, 0 to 1823059\n",
      "Data columns (total 7 columns):\n",
      " #   Column           Dtype  \n",
      "---  ------           -----  \n",
      " 0   Address          object \n",
      " 1   Type             object \n",
      " 2   Datetime         object \n",
      " 3   Latitude         float64\n",
      " 4   Longitude        float64\n",
      " 5   Report Location  object \n",
      " 6   Incident Number  object \n",
      "dtypes: float64(2), object(5)\n",
      "memory usage: 97.4+ MB\n"
     ]
    }
   ],
   "source": [
    "#Informations about the dataframe Df\n",
    "Df.info()"
   ]
  },
  {
   "cell_type": "code",
   "execution_count": 6,
   "id": "f3d4854c",
   "metadata": {},
   "outputs": [
    {
     "data": {
      "text/plain": [
       "(1823060, 7)"
      ]
     },
     "execution_count": 6,
     "metadata": {},
     "output_type": "execute_result"
    }
   ],
   "source": [
    "#Number of rows and columns\n",
    "Df.shape"
   ]
  },
  {
   "cell_type": "code",
   "execution_count": 7,
   "id": "9a13a538",
   "metadata": {},
   "outputs": [
    {
     "data": {
      "text/plain": [
       "False"
      ]
     },
     "execution_count": 7,
     "metadata": {},
     "output_type": "execute_result"
    }
   ],
   "source": [
    "#Check for NaN under the DataFrame column Datetime:\n",
    "Df['Datetime'].isnull().values.any()"
   ]
  },
  {
   "cell_type": "markdown",
   "id": "247aeb83",
   "metadata": {},
   "source": [
    "#We have no NaN values in the column Datetime"
   ]
  },
  {
   "cell_type": "code",
   "execution_count": 8,
   "id": "2fc0efac",
   "metadata": {},
   "outputs": [
    {
     "data": {
      "text/plain": [
       "Address             object\n",
       "Type                object\n",
       "Datetime            object\n",
       "Latitude           float64\n",
       "Longitude          float64\n",
       "Report Location     object\n",
       "Incident Number     object\n",
       "dtype: object"
      ]
     },
     "execution_count": 8,
     "metadata": {},
     "output_type": "execute_result"
    }
   ],
   "source": [
    "#Checking the types of variables in the data frame\n",
    "Df.dtypes"
   ]
  },
  {
   "cell_type": "code",
   "execution_count": null,
   "id": "2e2614c3",
   "metadata": {},
   "outputs": [],
   "source": [
    "#Note that the Datetime column is currently of a string-type object.\n",
    "#Let’s parse this to datetime, as shown:\n",
    "#Remark: this process can take some time for long data sets\n",
    "Df['Datetime'] = pd.to_datetime(Df['Datetime'])\n",
    "print(type(Df['Datetime']))"
   ]
  },
  {
   "cell_type": "code",
   "execution_count": 179,
   "id": "e258aa46",
   "metadata": {},
   "outputs": [
    {
     "data": {
      "text/plain": [
       "Address                    object\n",
       "Type                       object\n",
       "Datetime           datetime64[ns]\n",
       "Latitude                  float64\n",
       "Longitude                 float64\n",
       "Report Location            object\n",
       "Incident Number            object\n",
       "dtype: object"
      ]
     },
     "execution_count": 179,
     "metadata": {},
     "output_type": "execute_result"
    }
   ],
   "source": [
    "#Now, we can check that Datetime column is a datetime object\n",
    "Df.dtypes"
   ]
  },
  {
   "cell_type": "code",
   "execution_count": 180,
   "id": "5d9ca18a",
   "metadata": {},
   "outputs": [],
   "source": [
    "# Sort DataFrame by date column\n",
    "Df.sort_values(by='Datetime', inplace = True)"
   ]
  },
  {
   "cell_type": "code",
   "execution_count": 181,
   "id": "fa15c40e",
   "metadata": {},
   "outputs": [
    {
     "data": {
      "text/html": [
       "<div>\n",
       "<style scoped>\n",
       "    .dataframe tbody tr th:only-of-type {\n",
       "        vertical-align: middle;\n",
       "    }\n",
       "\n",
       "    .dataframe tbody tr th {\n",
       "        vertical-align: top;\n",
       "    }\n",
       "\n",
       "    .dataframe thead th {\n",
       "        text-align: right;\n",
       "    }\n",
       "</style>\n",
       "<table border=\"1\" class=\"dataframe\">\n",
       "  <thead>\n",
       "    <tr style=\"text-align: right;\">\n",
       "      <th></th>\n",
       "      <th>Address</th>\n",
       "      <th>Type</th>\n",
       "      <th>Datetime</th>\n",
       "      <th>Latitude</th>\n",
       "      <th>Longitude</th>\n",
       "      <th>Report Location</th>\n",
       "      <th>Incident Number</th>\n",
       "    </tr>\n",
       "  </thead>\n",
       "  <tbody>\n",
       "    <tr>\n",
       "      <th>1996</th>\n",
       "      <td>507 W Mercer St</td>\n",
       "      <td>Medic Response</td>\n",
       "      <td>2003-11-07 09:30:48</td>\n",
       "      <td>47.624608</td>\n",
       "      <td>-122.363505</td>\n",
       "      <td>POINT (-122.363505 47.624608)</td>\n",
       "      <td>F030080834</td>\n",
       "    </tr>\n",
       "    <tr>\n",
       "      <th>1997</th>\n",
       "      <td>4104 Meridian Av N</td>\n",
       "      <td>Medic Response</td>\n",
       "      <td>2003-11-07 09:31:47</td>\n",
       "      <td>47.656799</td>\n",
       "      <td>-122.333806</td>\n",
       "      <td>POINT (-122.333806 47.656799)</td>\n",
       "      <td>F030080835</td>\n",
       "    </tr>\n",
       "    <tr>\n",
       "      <th>1998</th>\n",
       "      <td>11650 Beacon Av S</td>\n",
       "      <td>Auto Fire Alarm</td>\n",
       "      <td>2003-11-07 09:43:15</td>\n",
       "      <td>47.498464</td>\n",
       "      <td>-122.263967</td>\n",
       "      <td>POINT (-122.263967 47.498464)</td>\n",
       "      <td>F030080841</td>\n",
       "    </tr>\n",
       "    <tr>\n",
       "      <th>1999</th>\n",
       "      <td>1518 Nw 60th St</td>\n",
       "      <td>1RED 1 Unit</td>\n",
       "      <td>2003-11-07 09:50:05</td>\n",
       "      <td>47.672360</td>\n",
       "      <td>-122.376440</td>\n",
       "      <td>POINT (-122.37644 47.67236)</td>\n",
       "      <td>F030080842</td>\n",
       "    </tr>\n",
       "    <tr>\n",
       "      <th>2000</th>\n",
       "      <td>8499 Tillicum Rd Sw</td>\n",
       "      <td>Aid Response Yellow</td>\n",
       "      <td>2003-11-07 09:56:10</td>\n",
       "      <td>47.527277</td>\n",
       "      <td>-122.388451</td>\n",
       "      <td>POINT (-122.388451 47.527277)</td>\n",
       "      <td>F030080843</td>\n",
       "    </tr>\n",
       "    <tr>\n",
       "      <th>2001</th>\n",
       "      <td>4515 25th Av Ne</td>\n",
       "      <td>Aid Response</td>\n",
       "      <td>2003-11-07 10:00:57</td>\n",
       "      <td>47.661508</td>\n",
       "      <td>-122.300905</td>\n",
       "      <td>POINT (-122.300905 47.661508)</td>\n",
       "      <td>F030080844</td>\n",
       "    </tr>\n",
       "    <tr>\n",
       "      <th>2002</th>\n",
       "      <td>533 3rd Av W</td>\n",
       "      <td>Medic Response</td>\n",
       "      <td>2003-11-07 10:03:33</td>\n",
       "      <td>47.623717</td>\n",
       "      <td>-122.360635</td>\n",
       "      <td>POINT (-122.360635 47.623717)</td>\n",
       "      <td>F030080845</td>\n",
       "    </tr>\n",
       "    <tr>\n",
       "      <th>2003</th>\n",
       "      <td>4450 Green Lake Way N</td>\n",
       "      <td>Medic Response</td>\n",
       "      <td>2003-11-07 10:10:22</td>\n",
       "      <td>47.660979</td>\n",
       "      <td>-122.347002</td>\n",
       "      <td>POINT (-122.347002 47.660979)</td>\n",
       "      <td>F030080846</td>\n",
       "    </tr>\n",
       "    <tr>\n",
       "      <th>2004</th>\n",
       "      <td>7740 34th Av Sw</td>\n",
       "      <td>Auto Fire Alarm</td>\n",
       "      <td>2003-11-07 10:14:36</td>\n",
       "      <td>47.533369</td>\n",
       "      <td>-122.375255</td>\n",
       "      <td>POINT (-122.375255 47.533369)</td>\n",
       "      <td>F030080847</td>\n",
       "    </tr>\n",
       "    <tr>\n",
       "      <th>2005</th>\n",
       "      <td>2121 26TH AV S</td>\n",
       "      <td>Aid Response</td>\n",
       "      <td>2003-11-07 10:17:58</td>\n",
       "      <td>47.584234</td>\n",
       "      <td>-122.299024</td>\n",
       "      <td>POINT (-122.299024 47.584234)</td>\n",
       "      <td>F030080848</td>\n",
       "    </tr>\n",
       "  </tbody>\n",
       "</table>\n",
       "</div>"
      ],
      "text/plain": [
       "                    Address                 Type            Datetime  \\\n",
       "1996        507 W Mercer St       Medic Response 2003-11-07 09:30:48   \n",
       "1997     4104 Meridian Av N       Medic Response 2003-11-07 09:31:47   \n",
       "1998      11650 Beacon Av S      Auto Fire Alarm 2003-11-07 09:43:15   \n",
       "1999        1518 Nw 60th St          1RED 1 Unit 2003-11-07 09:50:05   \n",
       "2000    8499 Tillicum Rd Sw  Aid Response Yellow 2003-11-07 09:56:10   \n",
       "2001        4515 25th Av Ne         Aid Response 2003-11-07 10:00:57   \n",
       "2002           533 3rd Av W       Medic Response 2003-11-07 10:03:33   \n",
       "2003  4450 Green Lake Way N       Medic Response 2003-11-07 10:10:22   \n",
       "2004        7740 34th Av Sw      Auto Fire Alarm 2003-11-07 10:14:36   \n",
       "2005         2121 26TH AV S         Aid Response 2003-11-07 10:17:58   \n",
       "\n",
       "       Latitude   Longitude                Report Location Incident Number  \n",
       "1996  47.624608 -122.363505  POINT (-122.363505 47.624608)      F030080834  \n",
       "1997  47.656799 -122.333806  POINT (-122.333806 47.656799)      F030080835  \n",
       "1998  47.498464 -122.263967  POINT (-122.263967 47.498464)      F030080841  \n",
       "1999  47.672360 -122.376440    POINT (-122.37644 47.67236)      F030080842  \n",
       "2000  47.527277 -122.388451  POINT (-122.388451 47.527277)      F030080843  \n",
       "2001  47.661508 -122.300905  POINT (-122.300905 47.661508)      F030080844  \n",
       "2002  47.623717 -122.360635  POINT (-122.360635 47.623717)      F030080845  \n",
       "2003  47.660979 -122.347002  POINT (-122.347002 47.660979)      F030080846  \n",
       "2004  47.533369 -122.375255  POINT (-122.375255 47.533369)      F030080847  \n",
       "2005  47.584234 -122.299024  POINT (-122.299024 47.584234)      F030080848  "
      ]
     },
     "execution_count": 181,
     "metadata": {},
     "output_type": "execute_result"
    }
   ],
   "source": [
    "Df.head(10)"
   ]
  },
  {
   "cell_type": "code",
   "execution_count": 182,
   "id": "556ae5da",
   "metadata": {},
   "outputs": [
    {
     "data": {
      "text/plain": [
       "Timestamp('2003-11-07 09:30:48')"
      ]
     },
     "execution_count": 182,
     "metadata": {},
     "output_type": "execute_result"
    }
   ],
   "source": [
    "#The first call in the Dataframe?\n",
    "Df['Datetime'].iloc[0]"
   ]
  },
  {
   "cell_type": "code",
   "execution_count": 183,
   "id": "e8552af2",
   "metadata": {},
   "outputs": [
    {
     "data": {
      "text/plain": [
       "Timestamp('2023-07-28 07:27:00')"
      ]
     },
     "execution_count": 183,
     "metadata": {},
     "output_type": "execute_result"
    }
   ],
   "source": [
    "#The last call in the Dataframe?\n",
    "Df['Datetime'].iloc[1823059]"
   ]
  },
  {
   "cell_type": "code",
   "execution_count": 184,
   "id": "044cb3f6",
   "metadata": {},
   "outputs": [],
   "source": [
    "#Let's reset the index of the rows\n",
    "Df = Df.reset_index()"
   ]
  },
  {
   "cell_type": "code",
   "execution_count": 185,
   "id": "3003ce73",
   "metadata": {},
   "outputs": [
    {
     "data": {
      "text/html": [
       "<div>\n",
       "<style scoped>\n",
       "    .dataframe tbody tr th:only-of-type {\n",
       "        vertical-align: middle;\n",
       "    }\n",
       "\n",
       "    .dataframe tbody tr th {\n",
       "        vertical-align: top;\n",
       "    }\n",
       "\n",
       "    .dataframe thead th {\n",
       "        text-align: right;\n",
       "    }\n",
       "</style>\n",
       "<table border=\"1\" class=\"dataframe\">\n",
       "  <thead>\n",
       "    <tr style=\"text-align: right;\">\n",
       "      <th></th>\n",
       "      <th>Address</th>\n",
       "      <th>Type</th>\n",
       "      <th>Datetime</th>\n",
       "      <th>Latitude</th>\n",
       "      <th>Longitude</th>\n",
       "      <th>Report Location</th>\n",
       "      <th>Incident Number</th>\n",
       "    </tr>\n",
       "  </thead>\n",
       "  <tbody>\n",
       "    <tr>\n",
       "      <th>0</th>\n",
       "      <td>507 W Mercer St</td>\n",
       "      <td>Medic Response</td>\n",
       "      <td>2003-11-07 09:30:48</td>\n",
       "      <td>47.624608</td>\n",
       "      <td>-122.363505</td>\n",
       "      <td>POINT (-122.363505 47.624608)</td>\n",
       "      <td>F030080834</td>\n",
       "    </tr>\n",
       "    <tr>\n",
       "      <th>1</th>\n",
       "      <td>4104 Meridian Av N</td>\n",
       "      <td>Medic Response</td>\n",
       "      <td>2003-11-07 09:31:47</td>\n",
       "      <td>47.656799</td>\n",
       "      <td>-122.333806</td>\n",
       "      <td>POINT (-122.333806 47.656799)</td>\n",
       "      <td>F030080835</td>\n",
       "    </tr>\n",
       "    <tr>\n",
       "      <th>2</th>\n",
       "      <td>11650 Beacon Av S</td>\n",
       "      <td>Auto Fire Alarm</td>\n",
       "      <td>2003-11-07 09:43:15</td>\n",
       "      <td>47.498464</td>\n",
       "      <td>-122.263967</td>\n",
       "      <td>POINT (-122.263967 47.498464)</td>\n",
       "      <td>F030080841</td>\n",
       "    </tr>\n",
       "    <tr>\n",
       "      <th>3</th>\n",
       "      <td>1518 Nw 60th St</td>\n",
       "      <td>1RED 1 Unit</td>\n",
       "      <td>2003-11-07 09:50:05</td>\n",
       "      <td>47.672360</td>\n",
       "      <td>-122.376440</td>\n",
       "      <td>POINT (-122.37644 47.67236)</td>\n",
       "      <td>F030080842</td>\n",
       "    </tr>\n",
       "    <tr>\n",
       "      <th>4</th>\n",
       "      <td>8499 Tillicum Rd Sw</td>\n",
       "      <td>Aid Response Yellow</td>\n",
       "      <td>2003-11-07 09:56:10</td>\n",
       "      <td>47.527277</td>\n",
       "      <td>-122.388451</td>\n",
       "      <td>POINT (-122.388451 47.527277)</td>\n",
       "      <td>F030080843</td>\n",
       "    </tr>\n",
       "    <tr>\n",
       "      <th>...</th>\n",
       "      <td>...</td>\n",
       "      <td>...</td>\n",
       "      <td>...</td>\n",
       "      <td>...</td>\n",
       "      <td>...</td>\n",
       "      <td>...</td>\n",
       "      <td>...</td>\n",
       "    </tr>\n",
       "    <tr>\n",
       "      <th>1823055</th>\n",
       "      <td>11 W Aloha St</td>\n",
       "      <td>Aid Response</td>\n",
       "      <td>2023-07-28 06:56:00</td>\n",
       "      <td>47.627192</td>\n",
       "      <td>-122.356823</td>\n",
       "      <td>POINT (-122.356823 47.627192)</td>\n",
       "      <td>F230095629</td>\n",
       "    </tr>\n",
       "    <tr>\n",
       "      <th>1823056</th>\n",
       "      <td>4th Ave S / S Royal Brougham Way</td>\n",
       "      <td>Natural Gas Odor</td>\n",
       "      <td>2023-07-28 07:01:00</td>\n",
       "      <td>47.592394</td>\n",
       "      <td>-122.329049</td>\n",
       "      <td>POINT (-122.329049 47.592394)</td>\n",
       "      <td>F230095631</td>\n",
       "    </tr>\n",
       "    <tr>\n",
       "      <th>1823057</th>\n",
       "      <td>915 2nd Ave</td>\n",
       "      <td>Aid Response</td>\n",
       "      <td>2023-07-28 07:07:00</td>\n",
       "      <td>47.604548</td>\n",
       "      <td>-122.334570</td>\n",
       "      <td>POINT (-122.33457 47.604548)</td>\n",
       "      <td>F230095632</td>\n",
       "    </tr>\n",
       "    <tr>\n",
       "      <th>1823058</th>\n",
       "      <td>300 E Thomas St</td>\n",
       "      <td>Medic Response</td>\n",
       "      <td>2023-07-28 07:21:00</td>\n",
       "      <td>47.620827</td>\n",
       "      <td>-122.327861</td>\n",
       "      <td>POINT (-122.327861 47.620827)</td>\n",
       "      <td>F230095633</td>\n",
       "    </tr>\n",
       "    <tr>\n",
       "      <th>1823059</th>\n",
       "      <td>922 Mcgilvra Blvd E</td>\n",
       "      <td>Auto Fire Alarm</td>\n",
       "      <td>2023-07-28 07:27:00</td>\n",
       "      <td>47.627072</td>\n",
       "      <td>-122.281529</td>\n",
       "      <td>POINT (-122.281529 47.627072)</td>\n",
       "      <td>F230095634</td>\n",
       "    </tr>\n",
       "  </tbody>\n",
       "</table>\n",
       "<p>1823060 rows × 7 columns</p>\n",
       "</div>"
      ],
      "text/plain": [
       "                                  Address                 Type  \\\n",
       "0                         507 W Mercer St       Medic Response   \n",
       "1                      4104 Meridian Av N       Medic Response   \n",
       "2                       11650 Beacon Av S      Auto Fire Alarm   \n",
       "3                         1518 Nw 60th St          1RED 1 Unit   \n",
       "4                     8499 Tillicum Rd Sw  Aid Response Yellow   \n",
       "...                                   ...                  ...   \n",
       "1823055                     11 W Aloha St         Aid Response   \n",
       "1823056  4th Ave S / S Royal Brougham Way     Natural Gas Odor   \n",
       "1823057                       915 2nd Ave         Aid Response   \n",
       "1823058                   300 E Thomas St       Medic Response   \n",
       "1823059               922 Mcgilvra Blvd E      Auto Fire Alarm   \n",
       "\n",
       "                   Datetime   Latitude   Longitude  \\\n",
       "0       2003-11-07 09:30:48  47.624608 -122.363505   \n",
       "1       2003-11-07 09:31:47  47.656799 -122.333806   \n",
       "2       2003-11-07 09:43:15  47.498464 -122.263967   \n",
       "3       2003-11-07 09:50:05  47.672360 -122.376440   \n",
       "4       2003-11-07 09:56:10  47.527277 -122.388451   \n",
       "...                     ...        ...         ...   \n",
       "1823055 2023-07-28 06:56:00  47.627192 -122.356823   \n",
       "1823056 2023-07-28 07:01:00  47.592394 -122.329049   \n",
       "1823057 2023-07-28 07:07:00  47.604548 -122.334570   \n",
       "1823058 2023-07-28 07:21:00  47.620827 -122.327861   \n",
       "1823059 2023-07-28 07:27:00  47.627072 -122.281529   \n",
       "\n",
       "                       Report Location Incident Number  \n",
       "0        POINT (-122.363505 47.624608)      F030080834  \n",
       "1        POINT (-122.333806 47.656799)      F030080835  \n",
       "2        POINT (-122.263967 47.498464)      F030080841  \n",
       "3          POINT (-122.37644 47.67236)      F030080842  \n",
       "4        POINT (-122.388451 47.527277)      F030080843  \n",
       "...                                ...             ...  \n",
       "1823055  POINT (-122.356823 47.627192)      F230095629  \n",
       "1823056  POINT (-122.329049 47.592394)      F230095631  \n",
       "1823057   POINT (-122.33457 47.604548)      F230095632  \n",
       "1823058  POINT (-122.327861 47.620827)      F230095633  \n",
       "1823059  POINT (-122.281529 47.627072)      F230095634  \n",
       "\n",
       "[1823060 rows x 7 columns]"
      ]
     },
     "execution_count": 185,
     "metadata": {},
     "output_type": "execute_result"
    }
   ],
   "source": [
    "#Delete the column index\n",
    "Df.drop(labels='index', axis=1,inplace=True)\n",
    "Df.head()"
   ]
  },
  {
   "cell_type": "code",
   "execution_count": 186,
   "id": "dbfd0eb6",
   "metadata": {},
   "outputs": [],
   "source": [
    "#Let's export the reindexed dataframe to a new csv file\n",
    "Df.to_csv('Seattle_Real_Time_Fire_911_Calls_reindexed')"
   ]
  },
  {
   "cell_type": "code",
   "execution_count": 9,
   "id": "662eed01",
   "metadata": {},
   "outputs": [
    {
     "data": {
      "text/plain": [
       "0"
      ]
     },
     "execution_count": 9,
     "metadata": {},
     "output_type": "execute_result"
    }
   ],
   "source": [
    "#delete the dataframe Df from the memory\n",
    "del Df\n",
    "# Perform garbage collection\n",
    "gc.collect()"
   ]
  },
  {
   "cell_type": "code",
   "execution_count": 11,
   "id": "7b197bba",
   "metadata": {},
   "outputs": [],
   "source": [
    "#reading the new dataframe\n",
    "#The dataframe Df_1 is sorted by datetime\n",
    "Df_1 = pd.read_csv('Seattle_Real_Time_Fire_911_Calls_reindexed')"
   ]
  },
  {
   "cell_type": "code",
   "execution_count": 12,
   "id": "9b89788e",
   "metadata": {},
   "outputs": [
    {
     "data": {
      "text/plain": [
       "Unnamed: 0           int64\n",
       "Address             object\n",
       "Type                object\n",
       "Datetime            object\n",
       "Latitude           float64\n",
       "Longitude          float64\n",
       "Report Location     object\n",
       "Incident Number     object\n",
       "dtype: object"
      ]
     },
     "execution_count": 12,
     "metadata": {},
     "output_type": "execute_result"
    }
   ],
   "source": [
    "Df_1.dtypes\n"
   ]
  },
  {
   "cell_type": "code",
   "execution_count": 13,
   "id": "47acfcc5",
   "metadata": {},
   "outputs": [],
   "source": [
    "#We want to work with data from 2015 til 2023 (we want to delete old information)\n",
    "#We have to delete all the rows before the year 2015\n",
    "#To do it, we will transform the column Datetime of Df_1 into datetime object's column, \n",
    "#latter, we will create a new column called Date containing only the date (with no time)\n",
    "\n",
    "#Note that the Datetime column is currently of a string-type object.\n",
    "#Let’s parse this to datetime, as shown:\n",
    "Df_1['Datetime'] = pd.to_datetime(Df_1['Datetime'])"
   ]
  },
  {
   "cell_type": "code",
   "execution_count": 14,
   "id": "e72749a5",
   "metadata": {},
   "outputs": [
    {
     "name": "stdout",
     "output_type": "stream",
     "text": [
      "<class 'pandas.core.frame.DataFrame'>\n",
      "RangeIndex: 1823060 entries, 0 to 1823059\n",
      "Data columns (total 8 columns):\n",
      " #   Column           Dtype         \n",
      "---  ------           -----         \n",
      " 0   Unnamed: 0       int64         \n",
      " 1   Address          object        \n",
      " 2   Type             object        \n",
      " 3   Datetime         datetime64[ns]\n",
      " 4   Latitude         float64       \n",
      " 5   Longitude        float64       \n",
      " 6   Report Location  object        \n",
      " 7   Incident Number  object        \n",
      "dtypes: datetime64[ns](1), float64(2), int64(1), object(4)\n",
      "memory usage: 111.3+ MB\n"
     ]
    }
   ],
   "source": [
    "Df_1.info()"
   ]
  },
  {
   "cell_type": "code",
   "execution_count": 15,
   "id": "d1ab1dfd",
   "metadata": {},
   "outputs": [
    {
     "data": {
      "text/plain": [
       "(1823060, 8)"
      ]
     },
     "execution_count": 15,
     "metadata": {},
     "output_type": "execute_result"
    }
   ],
   "source": [
    "Df_1.shape"
   ]
  },
  {
   "cell_type": "code",
   "execution_count": 16,
   "id": "0d69a9bc",
   "metadata": {},
   "outputs": [],
   "source": [
    "#Creating a column with Dates\n",
    "Df_1['Date']=Df_1['Datetime'].dt.date\n",
    "#Converting the column Date to strings\n",
    "Df_1['Date']=Df_1['Date'].astype(str)"
   ]
  },
  {
   "cell_type": "code",
   "execution_count": 17,
   "id": "50fbfa4a",
   "metadata": {},
   "outputs": [
    {
     "data": {
      "text/html": [
       "<div>\n",
       "<style scoped>\n",
       "    .dataframe tbody tr th:only-of-type {\n",
       "        vertical-align: middle;\n",
       "    }\n",
       "\n",
       "    .dataframe tbody tr th {\n",
       "        vertical-align: top;\n",
       "    }\n",
       "\n",
       "    .dataframe thead th {\n",
       "        text-align: right;\n",
       "    }\n",
       "</style>\n",
       "<table border=\"1\" class=\"dataframe\">\n",
       "  <thead>\n",
       "    <tr style=\"text-align: right;\">\n",
       "      <th></th>\n",
       "      <th>Unnamed: 0</th>\n",
       "      <th>Address</th>\n",
       "      <th>Type</th>\n",
       "      <th>Datetime</th>\n",
       "      <th>Latitude</th>\n",
       "      <th>Longitude</th>\n",
       "      <th>Report Location</th>\n",
       "      <th>Incident Number</th>\n",
       "      <th>Date</th>\n",
       "    </tr>\n",
       "  </thead>\n",
       "  <tbody>\n",
       "    <tr>\n",
       "      <th>924346</th>\n",
       "      <td>924346</td>\n",
       "      <td>2132 1st Av</td>\n",
       "      <td>Aid Response</td>\n",
       "      <td>2015-01-01 00:02:42</td>\n",
       "      <td>47.61208</td>\n",
       "      <td>-122.344324</td>\n",
       "      <td>POINT (-122.344324 47.61208)</td>\n",
       "      <td>F150000003</td>\n",
       "      <td>2015-01-01</td>\n",
       "    </tr>\n",
       "  </tbody>\n",
       "</table>\n",
       "</div>"
      ],
      "text/plain": [
       "        Unnamed: 0      Address          Type            Datetime  Latitude  \\\n",
       "924346      924346  2132 1st Av  Aid Response 2015-01-01 00:02:42  47.61208   \n",
       "\n",
       "         Longitude               Report Location Incident Number        Date  \n",
       "924346 -122.344324  POINT (-122.344324 47.61208)      F150000003  2015-01-01  "
      ]
     },
     "execution_count": 17,
     "metadata": {},
     "output_type": "execute_result"
    }
   ],
   "source": [
    "#Checking the label of the first call in 2015\n",
    "Df_1[Df_1['Date']=='2015-01-01'].head(1)"
   ]
  },
  {
   "cell_type": "code",
   "execution_count": 19,
   "id": "a780a915",
   "metadata": {},
   "outputs": [],
   "source": [
    "#The index of the first call in 2015 is 924346\n",
    "#Let's drop all the rows before the label 924346\n",
    "j=924346\n",
    "Df_2=Df_1.drop(Df_1.index[0:j],axis=0,inplace=False)"
   ]
  },
  {
   "cell_type": "code",
   "execution_count": 20,
   "id": "c5567f98",
   "metadata": {},
   "outputs": [
    {
     "data": {
      "text/html": [
       "<div>\n",
       "<style scoped>\n",
       "    .dataframe tbody tr th:only-of-type {\n",
       "        vertical-align: middle;\n",
       "    }\n",
       "\n",
       "    .dataframe tbody tr th {\n",
       "        vertical-align: top;\n",
       "    }\n",
       "\n",
       "    .dataframe thead th {\n",
       "        text-align: right;\n",
       "    }\n",
       "</style>\n",
       "<table border=\"1\" class=\"dataframe\">\n",
       "  <thead>\n",
       "    <tr style=\"text-align: right;\">\n",
       "      <th></th>\n",
       "      <th>Unnamed: 0</th>\n",
       "      <th>Address</th>\n",
       "      <th>Type</th>\n",
       "      <th>Datetime</th>\n",
       "      <th>Latitude</th>\n",
       "      <th>Longitude</th>\n",
       "      <th>Report Location</th>\n",
       "      <th>Incident Number</th>\n",
       "      <th>Date</th>\n",
       "    </tr>\n",
       "  </thead>\n",
       "  <tbody>\n",
       "    <tr>\n",
       "      <th>924346</th>\n",
       "      <td>924346</td>\n",
       "      <td>2132 1st Av</td>\n",
       "      <td>Aid Response</td>\n",
       "      <td>2015-01-01 00:02:42</td>\n",
       "      <td>47.612080</td>\n",
       "      <td>-122.344324</td>\n",
       "      <td>POINT (-122.344324 47.61208)</td>\n",
       "      <td>F150000003</td>\n",
       "      <td>2015-01-01</td>\n",
       "    </tr>\n",
       "    <tr>\n",
       "      <th>924347</th>\n",
       "      <td>924347</td>\n",
       "      <td>224 Pontius Av N</td>\n",
       "      <td>Auto Fire Alarm</td>\n",
       "      <td>2015-01-01 00:04:58</td>\n",
       "      <td>47.619935</td>\n",
       "      <td>-122.331699</td>\n",
       "      <td>POINT (-122.331699 47.619935)</td>\n",
       "      <td>F150000004</td>\n",
       "      <td>2015-01-01</td>\n",
       "    </tr>\n",
       "    <tr>\n",
       "      <th>924348</th>\n",
       "      <td>924348</td>\n",
       "      <td>367 Prospect St</td>\n",
       "      <td>Illegal Burn</td>\n",
       "      <td>2015-01-01 00:12:02</td>\n",
       "      <td>47.628920</td>\n",
       "      <td>-122.349685</td>\n",
       "      <td>POINT (-122.349685 47.62892)</td>\n",
       "      <td>F150000008</td>\n",
       "      <td>2015-01-01</td>\n",
       "    </tr>\n",
       "    <tr>\n",
       "      <th>924349</th>\n",
       "      <td>924349</td>\n",
       "      <td>1522 6th Av</td>\n",
       "      <td>Aid Response</td>\n",
       "      <td>2015-01-01 00:12:16</td>\n",
       "      <td>47.611355</td>\n",
       "      <td>-122.334659</td>\n",
       "      <td>POINT (-122.334659 47.611355)</td>\n",
       "      <td>F150000009</td>\n",
       "      <td>2015-01-01</td>\n",
       "    </tr>\n",
       "    <tr>\n",
       "      <th>924350</th>\n",
       "      <td>924350</td>\n",
       "      <td>42nd Av Sw / Sw Alaska St</td>\n",
       "      <td>Aid Response</td>\n",
       "      <td>2015-01-01 00:12:28</td>\n",
       "      <td>47.561101</td>\n",
       "      <td>-122.385457</td>\n",
       "      <td>POINT (-122.385457 47.561101)</td>\n",
       "      <td>F150000010</td>\n",
       "      <td>2015-01-01</td>\n",
       "    </tr>\n",
       "  </tbody>\n",
       "</table>\n",
       "</div>"
      ],
      "text/plain": [
       "        Unnamed: 0                    Address             Type  \\\n",
       "924346      924346                2132 1st Av     Aid Response   \n",
       "924347      924347           224 Pontius Av N  Auto Fire Alarm   \n",
       "924348      924348            367 Prospect St     Illegal Burn   \n",
       "924349      924349                1522 6th Av     Aid Response   \n",
       "924350      924350  42nd Av Sw / Sw Alaska St     Aid Response   \n",
       "\n",
       "                  Datetime   Latitude   Longitude  \\\n",
       "924346 2015-01-01 00:02:42  47.612080 -122.344324   \n",
       "924347 2015-01-01 00:04:58  47.619935 -122.331699   \n",
       "924348 2015-01-01 00:12:02  47.628920 -122.349685   \n",
       "924349 2015-01-01 00:12:16  47.611355 -122.334659   \n",
       "924350 2015-01-01 00:12:28  47.561101 -122.385457   \n",
       "\n",
       "                      Report Location Incident Number        Date  \n",
       "924346   POINT (-122.344324 47.61208)      F150000003  2015-01-01  \n",
       "924347  POINT (-122.331699 47.619935)      F150000004  2015-01-01  \n",
       "924348   POINT (-122.349685 47.62892)      F150000008  2015-01-01  \n",
       "924349  POINT (-122.334659 47.611355)      F150000009  2015-01-01  \n",
       "924350  POINT (-122.385457 47.561101)      F150000010  2015-01-01  "
      ]
     },
     "execution_count": 20,
     "metadata": {},
     "output_type": "execute_result"
    }
   ],
   "source": [
    "#The new dataframe with no information prior 2015\n",
    "Df_2.head()"
   ]
  },
  {
   "cell_type": "code",
   "execution_count": 21,
   "id": "86d16d21",
   "metadata": {},
   "outputs": [
    {
     "data": {
      "text/plain": [
       "540"
      ]
     },
     "execution_count": 21,
     "metadata": {},
     "output_type": "execute_result"
    }
   ],
   "source": [
    "#delete the dataframe Df_1 from the memory\n",
    "del Df_1\n",
    "# Perform garbage collection\n",
    "gc.collect()"
   ]
  },
  {
   "cell_type": "code",
   "execution_count": 22,
   "id": "fed95d93",
   "metadata": {},
   "outputs": [],
   "source": [
    "#Deleting the column Unnamed: 0\n",
    "Df_2.drop(labels='Unnamed: 0', axis=1,inplace=True)\n",
    "\n",
    "#Let's reset the index of the rows\n",
    "Df_2 = Df_2.reset_index()\n",
    "Df_2.head()\n",
    "\n",
    "#Deleting the column index\n",
    "Df_2.drop(labels='index', axis=1,inplace=True)"
   ]
  },
  {
   "cell_type": "code",
   "execution_count": 23,
   "id": "1242bb1b",
   "metadata": {},
   "outputs": [
    {
     "data": {
      "text/html": [
       "<div>\n",
       "<style scoped>\n",
       "    .dataframe tbody tr th:only-of-type {\n",
       "        vertical-align: middle;\n",
       "    }\n",
       "\n",
       "    .dataframe tbody tr th {\n",
       "        vertical-align: top;\n",
       "    }\n",
       "\n",
       "    .dataframe thead th {\n",
       "        text-align: right;\n",
       "    }\n",
       "</style>\n",
       "<table border=\"1\" class=\"dataframe\">\n",
       "  <thead>\n",
       "    <tr style=\"text-align: right;\">\n",
       "      <th></th>\n",
       "      <th>Address</th>\n",
       "      <th>Type</th>\n",
       "      <th>Datetime</th>\n",
       "      <th>Latitude</th>\n",
       "      <th>Longitude</th>\n",
       "      <th>Report Location</th>\n",
       "      <th>Incident Number</th>\n",
       "      <th>Date</th>\n",
       "    </tr>\n",
       "  </thead>\n",
       "  <tbody>\n",
       "    <tr>\n",
       "      <th>0</th>\n",
       "      <td>2132 1st Av</td>\n",
       "      <td>Aid Response</td>\n",
       "      <td>2015-01-01 00:02:42</td>\n",
       "      <td>47.612080</td>\n",
       "      <td>-122.344324</td>\n",
       "      <td>POINT (-122.344324 47.61208)</td>\n",
       "      <td>F150000003</td>\n",
       "      <td>2015-01-01</td>\n",
       "    </tr>\n",
       "    <tr>\n",
       "      <th>1</th>\n",
       "      <td>224 Pontius Av N</td>\n",
       "      <td>Auto Fire Alarm</td>\n",
       "      <td>2015-01-01 00:04:58</td>\n",
       "      <td>47.619935</td>\n",
       "      <td>-122.331699</td>\n",
       "      <td>POINT (-122.331699 47.619935)</td>\n",
       "      <td>F150000004</td>\n",
       "      <td>2015-01-01</td>\n",
       "    </tr>\n",
       "    <tr>\n",
       "      <th>2</th>\n",
       "      <td>367 Prospect St</td>\n",
       "      <td>Illegal Burn</td>\n",
       "      <td>2015-01-01 00:12:02</td>\n",
       "      <td>47.628920</td>\n",
       "      <td>-122.349685</td>\n",
       "      <td>POINT (-122.349685 47.62892)</td>\n",
       "      <td>F150000008</td>\n",
       "      <td>2015-01-01</td>\n",
       "    </tr>\n",
       "    <tr>\n",
       "      <th>3</th>\n",
       "      <td>1522 6th Av</td>\n",
       "      <td>Aid Response</td>\n",
       "      <td>2015-01-01 00:12:16</td>\n",
       "      <td>47.611355</td>\n",
       "      <td>-122.334659</td>\n",
       "      <td>POINT (-122.334659 47.611355)</td>\n",
       "      <td>F150000009</td>\n",
       "      <td>2015-01-01</td>\n",
       "    </tr>\n",
       "    <tr>\n",
       "      <th>4</th>\n",
       "      <td>42nd Av Sw / Sw Alaska St</td>\n",
       "      <td>Aid Response</td>\n",
       "      <td>2015-01-01 00:12:28</td>\n",
       "      <td>47.561101</td>\n",
       "      <td>-122.385457</td>\n",
       "      <td>POINT (-122.385457 47.561101)</td>\n",
       "      <td>F150000010</td>\n",
       "      <td>2015-01-01</td>\n",
       "    </tr>\n",
       "  </tbody>\n",
       "</table>\n",
       "</div>"
      ],
      "text/plain": [
       "                     Address             Type            Datetime   Latitude  \\\n",
       "0                2132 1st Av     Aid Response 2015-01-01 00:02:42  47.612080   \n",
       "1           224 Pontius Av N  Auto Fire Alarm 2015-01-01 00:04:58  47.619935   \n",
       "2            367 Prospect St     Illegal Burn 2015-01-01 00:12:02  47.628920   \n",
       "3                1522 6th Av     Aid Response 2015-01-01 00:12:16  47.611355   \n",
       "4  42nd Av Sw / Sw Alaska St     Aid Response 2015-01-01 00:12:28  47.561101   \n",
       "\n",
       "    Longitude                Report Location Incident Number        Date  \n",
       "0 -122.344324   POINT (-122.344324 47.61208)      F150000003  2015-01-01  \n",
       "1 -122.331699  POINT (-122.331699 47.619935)      F150000004  2015-01-01  \n",
       "2 -122.349685   POINT (-122.349685 47.62892)      F150000008  2015-01-01  \n",
       "3 -122.334659  POINT (-122.334659 47.611355)      F150000009  2015-01-01  \n",
       "4 -122.385457  POINT (-122.385457 47.561101)      F150000010  2015-01-01  "
      ]
     },
     "execution_count": 23,
     "metadata": {},
     "output_type": "execute_result"
    }
   ],
   "source": [
    "#The new dataframe reindexed with no information prior 2015\n",
    "Df_2.head()"
   ]
  },
  {
   "cell_type": "code",
   "execution_count": 24,
   "id": "e6e42ea7",
   "metadata": {},
   "outputs": [],
   "source": [
    "#We want to generate a list of observations of the variable X, the times in minutes between calls\n",
    "#to 911\n",
    "List=[]\n",
    "j=len(Df_2['Datetime'])\n",
    "for i in range(0,j):\n",
    "    if i==0:\n",
    "        List.append(0)\n",
    "    else:\n",
    "        List.append(round((Df_2['Datetime'].iloc[i]-Df_2['Datetime'].iloc[i-1]).seconds/60, 2))\n"
   ]
  },
  {
   "cell_type": "code",
   "execution_count": 25,
   "id": "695b7259",
   "metadata": {},
   "outputs": [],
   "source": [
    "#Appending a the new column to the dataframe 'Minutes between calls'\n",
    "se = pd.Series(List)\n",
    "Df_2['Minutes between calls'] = se.values"
   ]
  },
  {
   "cell_type": "code",
   "execution_count": 26,
   "id": "39820b3a",
   "metadata": {},
   "outputs": [
    {
     "data": {
      "text/html": [
       "<div>\n",
       "<style scoped>\n",
       "    .dataframe tbody tr th:only-of-type {\n",
       "        vertical-align: middle;\n",
       "    }\n",
       "\n",
       "    .dataframe tbody tr th {\n",
       "        vertical-align: top;\n",
       "    }\n",
       "\n",
       "    .dataframe thead th {\n",
       "        text-align: right;\n",
       "    }\n",
       "</style>\n",
       "<table border=\"1\" class=\"dataframe\">\n",
       "  <thead>\n",
       "    <tr style=\"text-align: right;\">\n",
       "      <th></th>\n",
       "      <th>Address</th>\n",
       "      <th>Type</th>\n",
       "      <th>Datetime</th>\n",
       "      <th>Latitude</th>\n",
       "      <th>Longitude</th>\n",
       "      <th>Report Location</th>\n",
       "      <th>Incident Number</th>\n",
       "      <th>Date</th>\n",
       "      <th>Minutes between calls</th>\n",
       "    </tr>\n",
       "  </thead>\n",
       "  <tbody>\n",
       "    <tr>\n",
       "      <th>0</th>\n",
       "      <td>2132 1st Av</td>\n",
       "      <td>Aid Response</td>\n",
       "      <td>2015-01-01 00:02:42</td>\n",
       "      <td>47.612080</td>\n",
       "      <td>-122.344324</td>\n",
       "      <td>POINT (-122.344324 47.61208)</td>\n",
       "      <td>F150000003</td>\n",
       "      <td>2015-01-01</td>\n",
       "      <td>0.00</td>\n",
       "    </tr>\n",
       "    <tr>\n",
       "      <th>1</th>\n",
       "      <td>224 Pontius Av N</td>\n",
       "      <td>Auto Fire Alarm</td>\n",
       "      <td>2015-01-01 00:04:58</td>\n",
       "      <td>47.619935</td>\n",
       "      <td>-122.331699</td>\n",
       "      <td>POINT (-122.331699 47.619935)</td>\n",
       "      <td>F150000004</td>\n",
       "      <td>2015-01-01</td>\n",
       "      <td>2.27</td>\n",
       "    </tr>\n",
       "    <tr>\n",
       "      <th>2</th>\n",
       "      <td>367 Prospect St</td>\n",
       "      <td>Illegal Burn</td>\n",
       "      <td>2015-01-01 00:12:02</td>\n",
       "      <td>47.628920</td>\n",
       "      <td>-122.349685</td>\n",
       "      <td>POINT (-122.349685 47.62892)</td>\n",
       "      <td>F150000008</td>\n",
       "      <td>2015-01-01</td>\n",
       "      <td>7.07</td>\n",
       "    </tr>\n",
       "    <tr>\n",
       "      <th>3</th>\n",
       "      <td>1522 6th Av</td>\n",
       "      <td>Aid Response</td>\n",
       "      <td>2015-01-01 00:12:16</td>\n",
       "      <td>47.611355</td>\n",
       "      <td>-122.334659</td>\n",
       "      <td>POINT (-122.334659 47.611355)</td>\n",
       "      <td>F150000009</td>\n",
       "      <td>2015-01-01</td>\n",
       "      <td>0.23</td>\n",
       "    </tr>\n",
       "    <tr>\n",
       "      <th>4</th>\n",
       "      <td>42nd Av Sw / Sw Alaska St</td>\n",
       "      <td>Aid Response</td>\n",
       "      <td>2015-01-01 00:12:28</td>\n",
       "      <td>47.561101</td>\n",
       "      <td>-122.385457</td>\n",
       "      <td>POINT (-122.385457 47.561101)</td>\n",
       "      <td>F150000010</td>\n",
       "      <td>2015-01-01</td>\n",
       "      <td>0.20</td>\n",
       "    </tr>\n",
       "  </tbody>\n",
       "</table>\n",
       "</div>"
      ],
      "text/plain": [
       "                     Address             Type            Datetime   Latitude  \\\n",
       "0                2132 1st Av     Aid Response 2015-01-01 00:02:42  47.612080   \n",
       "1           224 Pontius Av N  Auto Fire Alarm 2015-01-01 00:04:58  47.619935   \n",
       "2            367 Prospect St     Illegal Burn 2015-01-01 00:12:02  47.628920   \n",
       "3                1522 6th Av     Aid Response 2015-01-01 00:12:16  47.611355   \n",
       "4  42nd Av Sw / Sw Alaska St     Aid Response 2015-01-01 00:12:28  47.561101   \n",
       "\n",
       "    Longitude                Report Location Incident Number        Date  \\\n",
       "0 -122.344324   POINT (-122.344324 47.61208)      F150000003  2015-01-01   \n",
       "1 -122.331699  POINT (-122.331699 47.619935)      F150000004  2015-01-01   \n",
       "2 -122.349685   POINT (-122.349685 47.62892)      F150000008  2015-01-01   \n",
       "3 -122.334659  POINT (-122.334659 47.611355)      F150000009  2015-01-01   \n",
       "4 -122.385457  POINT (-122.385457 47.561101)      F150000010  2015-01-01   \n",
       "\n",
       "   Minutes between calls  \n",
       "0                   0.00  \n",
       "1                   2.27  \n",
       "2                   7.07  \n",
       "3                   0.23  \n",
       "4                   0.20  "
      ]
     },
     "execution_count": 26,
     "metadata": {},
     "output_type": "execute_result"
    }
   ],
   "source": [
    "Df_2.head()"
   ]
  },
  {
   "cell_type": "code",
   "execution_count": 27,
   "id": "9693d214",
   "metadata": {},
   "outputs": [
    {
     "data": {
      "text/plain": [
       "<Axes: xlabel='Minutes between calls', ylabel='Count'>"
      ]
     },
     "execution_count": 27,
     "metadata": {},
     "output_type": "execute_result"
    },
    {
     "data": {
      "image/png": "[encoded data removed]",
      "text/plain": [
       "<Figure size 640x480 with 1 Axes>"
      ]
     },
     "metadata": {},
     "output_type": "display_data"
    }
   ],
   "source": [
    "#Histogram of the column Minutes between calls\n",
    "#sns.displot(Df_2['Minutes between calls'],kde=True,bins=100)\n",
    "sns.histplot(data=Df_2, x='Minutes between calls', bins=200, kde=True)\n",
    "#Df_2.hist(column='Minutes between calls',bins=100)"
   ]
  },
  {
   "cell_type": "code",
   "execution_count": 52,
   "id": "6917a9d8",
   "metadata": {},
   "outputs": [],
   "source": [
    "#Let's construct an histogram of minutes between calls considering solelly the data type 'auto fire alarms' \n",
    "#The index of the first call in dataframe Df_1 in 2015 is 924346\n",
    "#Let's drop all the rows before the label 924346\n",
    "#j=924346\n",
    "#Df_3=Df_1.drop(Df_1.index[0:j],axis=0,inplace=False)"
   ]
  },
  {
   "cell_type": "code",
   "execution_count": 28,
   "id": "2ad588c8",
   "metadata": {},
   "outputs": [
    {
     "data": {
      "text/html": [
       "<div>\n",
       "<style scoped>\n",
       "    .dataframe tbody tr th:only-of-type {\n",
       "        vertical-align: middle;\n",
       "    }\n",
       "\n",
       "    .dataframe tbody tr th {\n",
       "        vertical-align: top;\n",
       "    }\n",
       "\n",
       "    .dataframe thead th {\n",
       "        text-align: right;\n",
       "    }\n",
       "</style>\n",
       "<table border=\"1\" class=\"dataframe\">\n",
       "  <thead>\n",
       "    <tr style=\"text-align: right;\">\n",
       "      <th></th>\n",
       "      <th>Address</th>\n",
       "      <th>Type</th>\n",
       "      <th>Datetime</th>\n",
       "      <th>Latitude</th>\n",
       "      <th>Longitude</th>\n",
       "      <th>Report Location</th>\n",
       "      <th>Incident Number</th>\n",
       "      <th>Date</th>\n",
       "      <th>Minutes between calls</th>\n",
       "    </tr>\n",
       "  </thead>\n",
       "  <tbody>\n",
       "    <tr>\n",
       "      <th>0</th>\n",
       "      <td>224 Pontius Av N</td>\n",
       "      <td>Auto Fire Alarm</td>\n",
       "      <td>2015-01-01 00:04:58</td>\n",
       "      <td>47.619935</td>\n",
       "      <td>-122.331699</td>\n",
       "      <td>POINT (-122.331699 47.619935)</td>\n",
       "      <td>F150000004</td>\n",
       "      <td>2015-01-01</td>\n",
       "      <td>2.27</td>\n",
       "    </tr>\n",
       "    <tr>\n",
       "      <th>1</th>\n",
       "      <td>1433 12th Av</td>\n",
       "      <td>Auto Fire Alarm</td>\n",
       "      <td>2015-01-01 00:24:38</td>\n",
       "      <td>47.613286</td>\n",
       "      <td>-122.316767</td>\n",
       "      <td>POINT (-122.316767 47.613286)</td>\n",
       "      <td>F150000022</td>\n",
       "      <td>2015-01-01</td>\n",
       "      <td>1.00</td>\n",
       "    </tr>\n",
       "    <tr>\n",
       "      <th>2</th>\n",
       "      <td>311 E Republican St</td>\n",
       "      <td>Auto Fire Alarm</td>\n",
       "      <td>2015-01-01 00:41:52</td>\n",
       "      <td>47.623133</td>\n",
       "      <td>-122.327173</td>\n",
       "      <td>POINT (-122.327173 47.623133)</td>\n",
       "      <td>F150000041</td>\n",
       "      <td>2015-01-01</td>\n",
       "      <td>0.58</td>\n",
       "    </tr>\n",
       "    <tr>\n",
       "      <th>3</th>\n",
       "      <td>219 Pontius Av N</td>\n",
       "      <td>Auto Fire Alarm</td>\n",
       "      <td>2015-01-01 01:12:22</td>\n",
       "      <td>47.619877</td>\n",
       "      <td>-122.331698</td>\n",
       "      <td>POINT (-122.331698 47.619877)</td>\n",
       "      <td>F150000063</td>\n",
       "      <td>2015-01-01</td>\n",
       "      <td>0.20</td>\n",
       "    </tr>\n",
       "    <tr>\n",
       "      <th>4</th>\n",
       "      <td>1011 E Terrace St</td>\n",
       "      <td>Auto Fire Alarm</td>\n",
       "      <td>2015-01-01 02:39:53</td>\n",
       "      <td>47.605202</td>\n",
       "      <td>-122.319267</td>\n",
       "      <td>POINT (-122.319267 47.605202)</td>\n",
       "      <td>F150000129</td>\n",
       "      <td>2015-01-01</td>\n",
       "      <td>6.87</td>\n",
       "    </tr>\n",
       "  </tbody>\n",
       "</table>\n",
       "</div>"
      ],
      "text/plain": [
       "               Address             Type            Datetime   Latitude  \\\n",
       "0     224 Pontius Av N  Auto Fire Alarm 2015-01-01 00:04:58  47.619935   \n",
       "1         1433 12th Av  Auto Fire Alarm 2015-01-01 00:24:38  47.613286   \n",
       "2  311 E Republican St  Auto Fire Alarm 2015-01-01 00:41:52  47.623133   \n",
       "3     219 Pontius Av N  Auto Fire Alarm 2015-01-01 01:12:22  47.619877   \n",
       "4    1011 E Terrace St  Auto Fire Alarm 2015-01-01 02:39:53  47.605202   \n",
       "\n",
       "    Longitude                Report Location Incident Number        Date  \\\n",
       "0 -122.331699  POINT (-122.331699 47.619935)      F150000004  2015-01-01   \n",
       "1 -122.316767  POINT (-122.316767 47.613286)      F150000022  2015-01-01   \n",
       "2 -122.327173  POINT (-122.327173 47.623133)      F150000041  2015-01-01   \n",
       "3 -122.331698  POINT (-122.331698 47.619877)      F150000063  2015-01-01   \n",
       "4 -122.319267  POINT (-122.319267 47.605202)      F150000129  2015-01-01   \n",
       "\n",
       "   Minutes between calls  \n",
       "0                   2.27  \n",
       "1                   1.00  \n",
       "2                   0.58  \n",
       "3                   0.20  \n",
       "4                   6.87  "
      ]
     },
     "execution_count": 28,
     "metadata": {},
     "output_type": "execute_result"
    }
   ],
   "source": [
    "#Selecting only the rows with type 'auto fire alarm'\n",
    "Df_3=Df_2[Df_2['Type']=='Auto Fire Alarm']\n",
    "\n",
    "#Deleting the column Unnamed: 0\n",
    "#del Df_3['Unnamed: 0']\n",
    "\n",
    "#Let's reset the index of the rows\n",
    "Df_3 = Df_3.reset_index()\n",
    "\n",
    "del Df_3['index']\n",
    "\n",
    "Df_3.head()"
   ]
  },
  {
   "cell_type": "code",
   "execution_count": 29,
   "id": "2a31ae00",
   "metadata": {},
   "outputs": [],
   "source": [
    "#Let's export the dataframe Df_2 to a new csv file\n",
    "Df_2.to_csv('Df_2')"
   ]
  },
  {
   "cell_type": "code",
   "execution_count": 30,
   "id": "ec9f2314",
   "metadata": {},
   "outputs": [
    {
     "data": {
      "text/plain": [
       "86"
      ]
     },
     "execution_count": 30,
     "metadata": {},
     "output_type": "execute_result"
    }
   ],
   "source": [
    "#delete the dataframe Df_2 from the memory\n",
    "del Df_2\n",
    "# Perform garbage collection\n",
    "gc.collect()"
   ]
  },
  {
   "cell_type": "code",
   "execution_count": 31,
   "id": "ba100090",
   "metadata": {},
   "outputs": [],
   "source": [
    "#Working on the dataframe Df_3\n",
    "List=[]\n",
    "j=len(Df_3['Datetime'])\n",
    "for i in range(0,j):\n",
    "    if i==0:\n",
    "        List.append(0)\n",
    "    else:\n",
    "        List.append(round((Df_3['Datetime'].iloc[i]-Df_3['Datetime'].iloc[i-1]).seconds/60, 0))"
   ]
  },
  {
   "cell_type": "code",
   "execution_count": 32,
   "id": "f92e6ad8",
   "metadata": {},
   "outputs": [],
   "source": [
    "#Changing the column 'Minutes between calls' of the dataframe Df_3\n",
    "se = pd.Series(List)\n",
    "Df_3['Minutes between calls'] = se.values"
   ]
  },
  {
   "cell_type": "code",
   "execution_count": 33,
   "id": "8a735623",
   "metadata": {},
   "outputs": [
    {
     "data": {
      "text/html": [
       "<div>\n",
       "<style scoped>\n",
       "    .dataframe tbody tr th:only-of-type {\n",
       "        vertical-align: middle;\n",
       "    }\n",
       "\n",
       "    .dataframe tbody tr th {\n",
       "        vertical-align: top;\n",
       "    }\n",
       "\n",
       "    .dataframe thead th {\n",
       "        text-align: right;\n",
       "    }\n",
       "</style>\n",
       "<table border=\"1\" class=\"dataframe\">\n",
       "  <thead>\n",
       "    <tr style=\"text-align: right;\">\n",
       "      <th></th>\n",
       "      <th>Address</th>\n",
       "      <th>Type</th>\n",
       "      <th>Datetime</th>\n",
       "      <th>Latitude</th>\n",
       "      <th>Longitude</th>\n",
       "      <th>Report Location</th>\n",
       "      <th>Incident Number</th>\n",
       "      <th>Date</th>\n",
       "      <th>Minutes between calls</th>\n",
       "    </tr>\n",
       "  </thead>\n",
       "  <tbody>\n",
       "    <tr>\n",
       "      <th>0</th>\n",
       "      <td>224 Pontius Av N</td>\n",
       "      <td>Auto Fire Alarm</td>\n",
       "      <td>2015-01-01 00:04:58</td>\n",
       "      <td>47.619935</td>\n",
       "      <td>-122.331699</td>\n",
       "      <td>POINT (-122.331699 47.619935)</td>\n",
       "      <td>F150000004</td>\n",
       "      <td>2015-01-01</td>\n",
       "      <td>0.0</td>\n",
       "    </tr>\n",
       "    <tr>\n",
       "      <th>1</th>\n",
       "      <td>1433 12th Av</td>\n",
       "      <td>Auto Fire Alarm</td>\n",
       "      <td>2015-01-01 00:24:38</td>\n",
       "      <td>47.613286</td>\n",
       "      <td>-122.316767</td>\n",
       "      <td>POINT (-122.316767 47.613286)</td>\n",
       "      <td>F150000022</td>\n",
       "      <td>2015-01-01</td>\n",
       "      <td>20.0</td>\n",
       "    </tr>\n",
       "    <tr>\n",
       "      <th>2</th>\n",
       "      <td>311 E Republican St</td>\n",
       "      <td>Auto Fire Alarm</td>\n",
       "      <td>2015-01-01 00:41:52</td>\n",
       "      <td>47.623133</td>\n",
       "      <td>-122.327173</td>\n",
       "      <td>POINT (-122.327173 47.623133)</td>\n",
       "      <td>F150000041</td>\n",
       "      <td>2015-01-01</td>\n",
       "      <td>17.0</td>\n",
       "    </tr>\n",
       "    <tr>\n",
       "      <th>3</th>\n",
       "      <td>219 Pontius Av N</td>\n",
       "      <td>Auto Fire Alarm</td>\n",
       "      <td>2015-01-01 01:12:22</td>\n",
       "      <td>47.619877</td>\n",
       "      <td>-122.331698</td>\n",
       "      <td>POINT (-122.331698 47.619877)</td>\n",
       "      <td>F150000063</td>\n",
       "      <td>2015-01-01</td>\n",
       "      <td>30.0</td>\n",
       "    </tr>\n",
       "    <tr>\n",
       "      <th>4</th>\n",
       "      <td>1011 E Terrace St</td>\n",
       "      <td>Auto Fire Alarm</td>\n",
       "      <td>2015-01-01 02:39:53</td>\n",
       "      <td>47.605202</td>\n",
       "      <td>-122.319267</td>\n",
       "      <td>POINT (-122.319267 47.605202)</td>\n",
       "      <td>F150000129</td>\n",
       "      <td>2015-01-01</td>\n",
       "      <td>88.0</td>\n",
       "    </tr>\n",
       "  </tbody>\n",
       "</table>\n",
       "</div>"
      ],
      "text/plain": [
       "               Address             Type            Datetime   Latitude  \\\n",
       "0     224 Pontius Av N  Auto Fire Alarm 2015-01-01 00:04:58  47.619935   \n",
       "1         1433 12th Av  Auto Fire Alarm 2015-01-01 00:24:38  47.613286   \n",
       "2  311 E Republican St  Auto Fire Alarm 2015-01-01 00:41:52  47.623133   \n",
       "3     219 Pontius Av N  Auto Fire Alarm 2015-01-01 01:12:22  47.619877   \n",
       "4    1011 E Terrace St  Auto Fire Alarm 2015-01-01 02:39:53  47.605202   \n",
       "\n",
       "    Longitude                Report Location Incident Number        Date  \\\n",
       "0 -122.331699  POINT (-122.331699 47.619935)      F150000004  2015-01-01   \n",
       "1 -122.316767  POINT (-122.316767 47.613286)      F150000022  2015-01-01   \n",
       "2 -122.327173  POINT (-122.327173 47.623133)      F150000041  2015-01-01   \n",
       "3 -122.331698  POINT (-122.331698 47.619877)      F150000063  2015-01-01   \n",
       "4 -122.319267  POINT (-122.319267 47.605202)      F150000129  2015-01-01   \n",
       "\n",
       "   Minutes between calls  \n",
       "0                    0.0  \n",
       "1                   20.0  \n",
       "2                   17.0  \n",
       "3                   30.0  \n",
       "4                   88.0  "
      ]
     },
     "execution_count": 33,
     "metadata": {},
     "output_type": "execute_result"
    }
   ],
   "source": [
    "Df_3.head()"
   ]
  },
  {
   "cell_type": "code",
   "execution_count": 34,
   "id": "f9de5791",
   "metadata": {},
   "outputs": [
    {
     "data": {
      "text/plain": [
       "<Axes: xlabel='Minutes between calls', ylabel='Count'>"
      ]
     },
     "execution_count": 34,
     "metadata": {},
     "output_type": "execute_result"
    },
    {
     "data": {
      "image/png": "[encoded data removed]",
      "text/plain": [
       "<Figure size 640x480 with 1 Axes>"
      ]
     },
     "metadata": {},
     "output_type": "display_data"
    }
   ],
   "source": [
    "#Histogram of the column Minutes between calls for auto fire alarms data type\n",
    "#sns.displot(Df_2['Minutes between calls'],kde=True,bins=100)\n",
    "sns.histplot(data=Df_3, x='Minutes between calls', bins=50, kde=True)\n",
    "#Df_2.hist(column='Minutes between calls',bins=50)"
   ]
  },
  {
   "cell_type": "code",
   "execution_count": 58,
   "id": "e459a487",
   "metadata": {},
   "outputs": [
    {
     "data": {
      "text/latex": [
       "Note that, the exponential probability density function is perhaps the most appropriate to model \n",
       "the times in minutes between 911 calls of type Auto fire alarm. This PDF is given by: \n",
       "    \n",
       "$$f(\\lambda,x)=\\begin{cases} \\lambda e^{-\\lambda x},\\, x\\geq 0 \\\\\n",
       "                              0,\\, x<0 \\end{cases}$$\n",
       "\n",
       "Here $\\lambda >0$ is the parameter of the distribution, often called the rate parameter. \n"
      ],
      "text/plain": [
       "<IPython.core.display.Latex object>"
      ]
     },
     "metadata": {},
     "output_type": "display_data"
    }
   ],
   "source": [
    "%%latex\n",
    "Note that, the exponential probability density function is perhaps the most appropriate to model \n",
    "the times in minutes between 911 calls of type Auto fire alarm. This PDF is given by: \n",
    "    \n",
    "$$f(\\lambda,x)=\\begin{cases} \\lambda e^{-\\lambda x},\\, x\\geq 0 \\\\\n",
    "                              0,\\, x<0 \\end{cases}$$\n",
    "\n",
    "Here $\\lambda >0$ is the parameter of the distribution, often called the rate parameter. "
   ]
  },
  {
   "cell_type": "code",
   "execution_count": 37,
   "id": "77eb09d9",
   "metadata": {},
   "outputs": [
    {
     "data": {
      "text/plain": [
       "1607"
      ]
     },
     "execution_count": 37,
     "metadata": {},
     "output_type": "execute_result"
    }
   ],
   "source": [
    "#delete the dataframe Df_3 from the memory\n",
    "del Df_3\n",
    "# Perform garbage collection\n",
    "gc.collect()"
   ]
  },
  {
   "cell_type": "code",
   "execution_count": 3,
   "id": "a6733c4d",
   "metadata": {},
   "outputs": [
    {
     "data": {
      "text/plain": [
       "Aid Response                    444126\n",
       "Medic Response                  118493\n",
       "Trans to AMR                     51719\n",
       "Auto Fire Alarm                  45957\n",
       "MVI - Motor Vehicle Incident     21745\n",
       "Name: Type, dtype: int64"
      ]
     },
     "execution_count": 3,
     "metadata": {},
     "output_type": "execute_result"
    }
   ],
   "source": [
    "#Which are the 5 more often types of emergency calls?\n",
    "Df_2 = pd.read_csv('Df_2')\n",
    "Df_2['Type'].value_counts().head(5)"
   ]
  },
  {
   "cell_type": "code",
   "execution_count": 4,
   "id": "e95e5965",
   "metadata": {
    "scrolled": true
   },
   "outputs": [
    {
     "data": {
      "text/plain": [
       "517 3rd Av          4308\n",
       "318 2nd Av Et  S    3119\n",
       "1811 Eastlake Av    2510\n",
       "500 5th Av          2015\n",
       "509 3rd Av          2004\n",
       "Name: Address, dtype: int64"
      ]
     },
     "execution_count": 4,
     "metadata": {},
     "output_type": "execute_result"
    }
   ],
   "source": [
    "#What are the 5 address with more emergencies calls? \n",
    "Df_2['Address'].value_counts().head(5)"
   ]
  },
  {
   "cell_type": "code",
   "execution_count": 5,
   "id": "a6d81236",
   "metadata": {},
   "outputs": [
    {
     "data": {
      "text/plain": [
       "0"
      ]
     },
     "execution_count": 5,
     "metadata": {},
     "output_type": "execute_result"
    }
   ],
   "source": [
    "#delete the dataframe Df_2 from the memory\n",
    "del Df_2\n",
    "# Perform garbage collection\n",
    "gc.collect()"
   ]
  },
  {
   "cell_type": "code",
   "execution_count": 3,
   "id": "5a77b5de",
   "metadata": {},
   "outputs": [],
   "source": [
    "#Lets's study the increasing (decreasing) of emergency call coming from the 3rd Av troghout the years\n",
    "#First, lets make a copy of the full dataframe Df_1\n",
    "Df_3rAv = pd.read_csv('Df_2')"
   ]
  },
  {
   "cell_type": "code",
   "execution_count": 23,
   "id": "4a31dc53",
   "metadata": {},
   "outputs": [
    {
     "data": {
      "text/plain": [
       "Unnamed: 0                 int64\n",
       "Address                   object\n",
       "Type                      object\n",
       "Datetime                  object\n",
       "Latitude                 float64\n",
       "Longitude                float64\n",
       "Report Location           object\n",
       "Incident Number           object\n",
       "Date                      object\n",
       "Minutes between calls    float64\n",
       "dtype: object"
      ]
     },
     "execution_count": 23,
     "metadata": {},
     "output_type": "execute_result"
    }
   ],
   "source": [
    "#Check for NaN under the column Address:\n",
    "#Df_3rAv['Address'].isna().sum()\n",
    "Df_3rAv.dtypes"
   ]
  },
  {
   "cell_type": "code",
   "execution_count": 4,
   "id": "f128ed08",
   "metadata": {},
   "outputs": [],
   "source": [
    "#Selecting the rows we will delete: we are interested in the rows with calls from 3rd Av\n",
    "List=[]\n",
    "j=len(Df_3rAv['Address'])\n",
    "for i in range(0,j):\n",
    "    x=Df_3rAv['Address'].iloc[i]\n",
    "    if type(x)!=str:\n",
    "        List.append(i)\n",
    "    elif '3rd Av' in x:\n",
    "        continue\n",
    "    else:\n",
    "        List.append(i)\n",
    "        \n"
   ]
  },
  {
   "cell_type": "code",
   "execution_count": 5,
   "id": "b19cf25c",
   "metadata": {},
   "outputs": [],
   "source": [
    "#Delete rows by index\n",
    "Df_3rAv=Df_3rAv.drop(Df_3rAv.index[List],axis=0)"
   ]
  },
  {
   "cell_type": "code",
   "execution_count": 6,
   "id": "a96beec9",
   "metadata": {},
   "outputs": [
    {
     "data": {
      "text/html": [
       "<div>\n",
       "<style scoped>\n",
       "    .dataframe tbody tr th:only-of-type {\n",
       "        vertical-align: middle;\n",
       "    }\n",
       "\n",
       "    .dataframe tbody tr th {\n",
       "        vertical-align: top;\n",
       "    }\n",
       "\n",
       "    .dataframe thead th {\n",
       "        text-align: right;\n",
       "    }\n",
       "</style>\n",
       "<table border=\"1\" class=\"dataframe\">\n",
       "  <thead>\n",
       "    <tr style=\"text-align: right;\">\n",
       "      <th></th>\n",
       "      <th>Address</th>\n",
       "      <th>Type</th>\n",
       "      <th>Datetime</th>\n",
       "      <th>Latitude</th>\n",
       "      <th>Longitude</th>\n",
       "      <th>Report Location</th>\n",
       "      <th>Incident Number</th>\n",
       "      <th>Date</th>\n",
       "      <th>Minutes between calls</th>\n",
       "    </tr>\n",
       "  </thead>\n",
       "  <tbody>\n",
       "    <tr>\n",
       "      <th>0</th>\n",
       "      <td>3rd Av / Lenora St</td>\n",
       "      <td>Aid Response</td>\n",
       "      <td>2015-01-01 00:34:59</td>\n",
       "      <td>47.613167</td>\n",
       "      <td>-122.342193</td>\n",
       "      <td>POINT (-122.342193 47.613167)</td>\n",
       "      <td>F150000034</td>\n",
       "      <td>2015-01-01</td>\n",
       "      <td>0.40</td>\n",
       "    </tr>\n",
       "    <tr>\n",
       "      <th>1</th>\n",
       "      <td>1524 3rd Av</td>\n",
       "      <td>Aid Response</td>\n",
       "      <td>2015-01-01 01:21:37</td>\n",
       "      <td>47.609983</td>\n",
       "      <td>-122.338006</td>\n",
       "      <td>POINT (-122.338006 47.609983)</td>\n",
       "      <td>F150000070</td>\n",
       "      <td>2015-01-01</td>\n",
       "      <td>5.60</td>\n",
       "    </tr>\n",
       "    <tr>\n",
       "      <th>2</th>\n",
       "      <td>2030 3rd Av</td>\n",
       "      <td>Medic Response</td>\n",
       "      <td>2015-01-01 02:06:26</td>\n",
       "      <td>47.612626</td>\n",
       "      <td>-122.341277</td>\n",
       "      <td>POINT (-122.341277 47.612626)</td>\n",
       "      <td>F150000104</td>\n",
       "      <td>2015-01-01</td>\n",
       "      <td>3.13</td>\n",
       "    </tr>\n",
       "    <tr>\n",
       "      <th>3</th>\n",
       "      <td>5926 23rd Av S</td>\n",
       "      <td>Aid Response</td>\n",
       "      <td>2015-01-01 06:31:43</td>\n",
       "      <td>47.549471</td>\n",
       "      <td>-122.304296</td>\n",
       "      <td>POINT (-122.304296 47.549471)</td>\n",
       "      <td>F150000193</td>\n",
       "      <td>2015-01-01</td>\n",
       "      <td>0.38</td>\n",
       "    </tr>\n",
       "    <tr>\n",
       "      <th>4</th>\n",
       "      <td>3rd Av / Pine St</td>\n",
       "      <td>Aid Response</td>\n",
       "      <td>2015-01-01 07:30:16</td>\n",
       "      <td>47.610743</td>\n",
       "      <td>-122.338702</td>\n",
       "      <td>POINT (-122.338702 47.610743)</td>\n",
       "      <td>F150000201</td>\n",
       "      <td>2015-01-01</td>\n",
       "      <td>3.47</td>\n",
       "    </tr>\n",
       "  </tbody>\n",
       "</table>\n",
       "</div>"
      ],
      "text/plain": [
       "              Address            Type             Datetime   Latitude  \\\n",
       "0  3rd Av / Lenora St    Aid Response  2015-01-01 00:34:59  47.613167   \n",
       "1         1524 3rd Av    Aid Response  2015-01-01 01:21:37  47.609983   \n",
       "2         2030 3rd Av  Medic Response  2015-01-01 02:06:26  47.612626   \n",
       "3      5926 23rd Av S    Aid Response  2015-01-01 06:31:43  47.549471   \n",
       "4    3rd Av / Pine St    Aid Response  2015-01-01 07:30:16  47.610743   \n",
       "\n",
       "    Longitude                Report Location Incident Number        Date  \\\n",
       "0 -122.342193  POINT (-122.342193 47.613167)      F150000034  2015-01-01   \n",
       "1 -122.338006  POINT (-122.338006 47.609983)      F150000070  2015-01-01   \n",
       "2 -122.341277  POINT (-122.341277 47.612626)      F150000104  2015-01-01   \n",
       "3 -122.304296  POINT (-122.304296 47.549471)      F150000193  2015-01-01   \n",
       "4 -122.338702  POINT (-122.338702 47.610743)      F150000201  2015-01-01   \n",
       "\n",
       "   Minutes between calls  \n",
       "0                   0.40  \n",
       "1                   5.60  \n",
       "2                   3.13  \n",
       "3                   0.38  \n",
       "4                   3.47  "
      ]
     },
     "execution_count": 6,
     "metadata": {},
     "output_type": "execute_result"
    }
   ],
   "source": [
    "#delete Unnamed: 0 column\n",
    "del Df_3rAv['Unnamed: 0']\n",
    "\n",
    "#Let's reset the index of the rows\n",
    "Df_3rAv = Df_3rAv.reset_index()\n",
    "\n",
    "del Df_3rAv['index']\n",
    "\n",
    "Df_3rAv.head()"
   ]
  },
  {
   "cell_type": "code",
   "execution_count": 7,
   "id": "f80513a2",
   "metadata": {},
   "outputs": [
    {
     "data": {
      "text/plain": [
       "Address                   object\n",
       "Type                      object\n",
       "Datetime                  object\n",
       "Latitude                 float64\n",
       "Longitude                float64\n",
       "Report Location           object\n",
       "Incident Number           object\n",
       "Date                      object\n",
       "Minutes between calls    float64\n",
       "dtype: object"
      ]
     },
     "execution_count": 7,
     "metadata": {},
     "output_type": "execute_result"
    }
   ],
   "source": [
    "Df_3rAv.dtypes"
   ]
  },
  {
   "cell_type": "code",
   "execution_count": 8,
   "id": "8bbc826a",
   "metadata": {},
   "outputs": [],
   "source": [
    "#Creating a column with years\n",
    "def year_func(n):\n",
    "    y=n.split('-')[0]\n",
    "    return y\n",
    "    \n",
    "Df_3rAv['Year'] = Df_3rAv['Date'].apply(lambda x : year_func(x))\n"
   ]
  },
  {
   "cell_type": "code",
   "execution_count": 9,
   "id": "0be0002f",
   "metadata": {},
   "outputs": [],
   "source": [
    "#Creating a column of 1's\n",
    "se = pd.Series([1] * len(Df_3rAv['Year']))\n",
    "Df_3rAv['Counting']=se.values"
   ]
  },
  {
   "cell_type": "code",
   "execution_count": 10,
   "id": "6c98df61",
   "metadata": {},
   "outputs": [],
   "source": [
    "#Delete some unecessary columns\n",
    "Df_3rAv.drop(columns=['Address', 'Type','Datetime','Latitude', 'Longitude','Report Location','Incident Number','Date','Minutes between calls'],inplace=True)"
   ]
  },
  {
   "cell_type": "code",
   "execution_count": 11,
   "id": "b77a7a35",
   "metadata": {},
   "outputs": [],
   "source": [
    "#Grounpying by Year\n",
    "Df_3rAv=Df_3rAv.groupby(by=[\"Year\"]).sum('numeric_only')"
   ]
  },
  {
   "cell_type": "code",
   "execution_count": 12,
   "id": "6292dd83",
   "metadata": {},
   "outputs": [],
   "source": [
    "Df_3rAv=Df_3rAv.drop(Df_3rAv.index[-1],axis=0)"
   ]
  },
  {
   "cell_type": "code",
   "execution_count": 13,
   "id": "02eb359f",
   "metadata": {
    "scrolled": true
   },
   "outputs": [
    {
     "data": {
      "text/html": [
       "<div>\n",
       "<style scoped>\n",
       "    .dataframe tbody tr th:only-of-type {\n",
       "        vertical-align: middle;\n",
       "    }\n",
       "\n",
       "    .dataframe tbody tr th {\n",
       "        vertical-align: top;\n",
       "    }\n",
       "\n",
       "    .dataframe thead th {\n",
       "        text-align: right;\n",
       "    }\n",
       "</style>\n",
       "<table border=\"1\" class=\"dataframe\">\n",
       "  <thead>\n",
       "    <tr style=\"text-align: right;\">\n",
       "      <th></th>\n",
       "      <th>Counting</th>\n",
       "    </tr>\n",
       "    <tr>\n",
       "      <th>Year</th>\n",
       "      <th></th>\n",
       "    </tr>\n",
       "  </thead>\n",
       "  <tbody>\n",
       "    <tr>\n",
       "      <th>2015</th>\n",
       "      <td>6504</td>\n",
       "    </tr>\n",
       "    <tr>\n",
       "      <th>2016</th>\n",
       "      <td>6686</td>\n",
       "    </tr>\n",
       "    <tr>\n",
       "      <th>2017</th>\n",
       "      <td>6796</td>\n",
       "    </tr>\n",
       "    <tr>\n",
       "      <th>2018</th>\n",
       "      <td>6963</td>\n",
       "    </tr>\n",
       "    <tr>\n",
       "      <th>2019</th>\n",
       "      <td>6819</td>\n",
       "    </tr>\n",
       "    <tr>\n",
       "      <th>2020</th>\n",
       "      <td>5580</td>\n",
       "    </tr>\n",
       "    <tr>\n",
       "      <th>2021</th>\n",
       "      <td>6127</td>\n",
       "    </tr>\n",
       "    <tr>\n",
       "      <th>2022</th>\n",
       "      <td>6780</td>\n",
       "    </tr>\n",
       "  </tbody>\n",
       "</table>\n",
       "</div>"
      ],
      "text/plain": [
       "      Counting\n",
       "Year          \n",
       "2015      6504\n",
       "2016      6686\n",
       "2017      6796\n",
       "2018      6963\n",
       "2019      6819\n",
       "2020      5580\n",
       "2021      6127\n",
       "2022      6780"
      ]
     },
     "execution_count": 13,
     "metadata": {},
     "output_type": "execute_result"
    }
   ],
   "source": [
    "Df_3rAv"
   ]
  },
  {
   "cell_type": "code",
   "execution_count": 14,
   "id": "6e2d728a",
   "metadata": {},
   "outputs": [
    {
     "data": {
      "text/plain": [
       "<Axes: xlabel='Year'>"
      ]
     },
     "execution_count": 14,
     "metadata": {},
     "output_type": "execute_result"
    },
    {
     "data": {
      "image/png": "[encoded data removed]",
      "text/plain": [
       "<Figure size 640x480 with 1 Axes>"
      ]
     },
     "metadata": {},
     "output_type": "display_data"
    }
   ],
   "source": [
    "Df_3rAv.plot.bar()"
   ]
  },
  {
   "cell_type": "code",
   "execution_count": null,
   "id": "10d7f858",
   "metadata": {},
   "outputs": [],
   "source": [
    "#Note that the number of emergency calls at 3r Av flutuates betweens 5500 and 7000 throughout the years.\n",
    "#In 2020 we had the start of covid-19 pandemic. May it have affected the number of emergency calls in the \n",
    "#years 2020, 2021 and 2022?"
   ]
  }
 ],
 "metadata": {
  "kernelspec": {
   "display_name": "Python 3 (ipykernel)",
   "language": "python",
   "name": "python3"
  },
  "language_info": {
   "codemirror_mode": {
    "name": "ipython",
    "version": 3
   },
   "file_extension": ".py",
   "mimetype": "text/x-python",
   "name": "python",
   "nbconvert_exporter": "python",
   "pygments_lexer": "ipython3",
   "version": "3.10.9"
  }
 },
 "nbformat": 4,
 "nbformat_minor": 5
}
