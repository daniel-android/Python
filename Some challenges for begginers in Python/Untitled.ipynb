{
 "cells": [
  {
   "cell_type": "markdown",
   "id": "fcf4b71e",
   "metadata": {},
   "source": [
    "'''1. Converting Radians into Degrees \n",
    "\n",
    "Write a Python function that accepts a single numeric parameter representing an angle in radians. \n",
    "The function should be able to convert the radians into degrees and return the value in degrees.. '''"
   ]
  },
  {
   "cell_type": "code",
   "execution_count": 6,
   "id": "faa648af",
   "metadata": {},
   "outputs": [
    {
     "name": "stdout",
     "output_type": "stream",
     "text": [
      "Enter the angle in radians: 4.34\n",
      "The value og the angle in degrees is  57.29577951308232\n"
     ]
    }
   ],
   "source": [
    "# Import math Library\n",
    "import math\n",
    "\n",
    "def rad_degree(angle):\n",
    "    x=360/(2*math.pi)\n",
    "    print(\"The value og the angle in degrees is \", x)\n",
    "    \n",
    "    \n",
    "angle = input(\"Enter the angle in radians: \")\n",
    "angle = float(angle)\n",
    "rad_degree(angle)"
   ]
  },
  {
   "cell_type": "markdown",
   "id": "17ff8069",
   "metadata": {},
   "source": [
    "'''2. Sort a List\n",
    "\n",
    "Write a Python function that takes two parameters: a list of numbers and a second parameter \n",
    "that can have one of three values: \"asc\", \"desc\", or \"none\".\n",
    "\n",
    "If the second parameter is \"asc\", the function should return the list of numbers in ascending order. If it is \"desc\", the function should return the list of numbers in descending order. \n",
    "If the second parameter is \"none\", the function should return the unaltered list.'''"
   ]
  },
  {
   "cell_type": "code",
   "execution_count": 20,
   "id": "6f7ec1b6",
   "metadata": {},
   "outputs": [
    {
     "name": "stdout",
     "output_type": "stream",
     "text": [
      "Enter: none, desc or asc: asc\n",
      "[1, 2, 2, 2.4, 5, 6, 209, 1203]\n"
     ]
    }
   ],
   "source": [
    "List =[2,6,2.4,5,1,2,209,1203]\n",
    "def ordering_func(command,List):\n",
    "    if command =='none':\n",
    "        print(List)\n",
    "    elif command =='asc':\n",
    "        print(sorted(List))\n",
    "    elif command == 'desc':\n",
    "        List=sorted(List)\n",
    "        List.reverse()\n",
    "        print(List)\n",
    "\n",
    "command = input(\"Enter: none, desc or asc: \")\n",
    "ordering_func(command, List)\n",
    "    "
   ]
  },
  {
   "cell_type": "markdown",
   "id": "238d6c77",
   "metadata": {},
   "source": [
    "'''3. Convert Decimal Numbers into Binary\n",
    "\n",
    "Write a Python function that takes in a decimal number and returns its equivalent binary \n",
    "representation. Note that the decimal number will always be less than 1,024, so the \n",
    "resulting binary number will be ten digits long.'''"
   ]
  },
  {
   "cell_type": "code",
   "execution_count": 32,
   "id": "e31dab25",
   "metadata": {},
   "outputs": [
    {
     "name": "stdout",
     "output_type": "stream",
     "text": [
      "Enter an integer number: 125223323\n",
      "0111011101101100000110011011"
     ]
    }
   ],
   "source": [
    "\n",
    "def DecimalToBinary(num):\n",
    "    if num >= 1:\n",
    "        DecimalToBinary(num // 2)\n",
    "    print(num % 2, end = '')\n",
    "\n",
    "number = input(\"Enter an integer number: \")\n",
    "number=int(number)\n",
    "\n",
    "binary=DecimalToBinary(number)\n",
    "\n"
   ]
  },
  {
   "cell_type": "markdown",
   "id": "21b07ffc",
   "metadata": {},
   "source": [
    "'''4. Count Vowels in a String\n",
    "\n",
    "In Python, you can create a function that counts the number of vowels in a given word. \n",
    "Vowels are the letters A, E, I, O, and U, both uppercase and lowercase. The function takes \n",
    "a single word as its parameter and returns the number of vowels present in the word.\n",
    "'''"
   ]
  },
  {
   "cell_type": "code",
   "execution_count": 36,
   "id": "f9aa5e34",
   "metadata": {},
   "outputs": [
    {
     "name": "stdout",
     "output_type": "stream",
     "text": [
      "The number of vowals in  leite  is  3\n"
     ]
    }
   ],
   "source": [
    "\n",
    "def counting_vowels(word):\n",
    "    vowals=0\n",
    "    for i in word:\n",
    "        if i in ['A','a','E','e','I','i','O','o','U','u']:\n",
    "            vowals=vowals+1\n",
    "    print('The number of vowals in ', word,' is ',vowals) \n",
    "\n",
    "counting_vowels('leite')"
   ]
  },
  {
   "cell_type": "markdown",
   "id": "fa82f14c",
   "metadata": {},
   "source": [
    "'''5. Writing short code\n",
    "\n",
    "Define a function named convert that takes a list of numbers as its only parameter and returns a list of each number converted to a string.\n",
    "\n",
    "For example, the call convert([1, 2, 3]) should return [\"1\", \"2\", \"3\"].\n",
    "\n",
    "What makes this tricky is that your function body must only contain a single line of code. '''"
   ]
  },
  {
   "cell_type": "code",
   "execution_count": 39,
   "id": "8c55add0",
   "metadata": {},
   "outputs": [
    {
     "name": "stdout",
     "output_type": "stream",
     "text": [
      "['1', '2', '3']\n"
     ]
    }
   ],
   "source": [
    "\n",
    "def convert(List):\n",
    "    print([str(n) for n in List])\n",
    "List=[1,2,3]\n",
    "convert(List)"
   ]
  },
  {
   "cell_type": "markdown",
   "id": "ca32eb51",
   "metadata": {},
   "source": [
    "'''6.Custom zip\n",
    "\n",
    "The built-in zip function \"zips\" two lists. Write your own implementation of this function.\n",
    "\n",
    "Define a function named zap. The function takes two parameters, a and b. These are lists.\n",
    "\n",
    "Your function should return a list of tuples. Each tuple should contain one item from the a \n",
    "\n",
    "list and one from b. You may assume a and b have equal lengths'''"
   ]
  },
  {
   "cell_type": "code",
   "execution_count": 6,
   "id": "db0b4a2f",
   "metadata": {},
   "outputs": [
    {
     "data": {
      "text/plain": [
       "[(1, 3), (2, 4), (5, 6)]"
      ]
     },
     "execution_count": 6,
     "metadata": {},
     "output_type": "execute_result"
    }
   ],
   "source": [
    "\n",
    "def zap(List1,List2):\n",
    "    if len(List1)==len(List2):\n",
    "        pass\n",
    "    else:\n",
    "        print('The dimensions of the lists must agree.')\n",
    "        return\n",
    "    tuple_list=[];\n",
    "    for i in range(0,len(List1)):\n",
    "        tuple_list.append((List1[i],List2[i]))\n",
    "    \n",
    "    return tuple_list\n",
    "        \n",
    "        \n",
    "List1=[1,2,5]\n",
    "List2=[3,4,6]\n",
    "zap(List1,List2)\n"
   ]
  },
  {
   "cell_type": "markdown",
   "id": "a8ff55ac",
   "metadata": {},
   "source": [
    "'''7. Thousands separator\n",
    "Write a function named format_number that takes a non-negative number as its only parameter.\n",
    "\n",
    "Your function should convert the number to a string and add commas as a thousands separator.\n",
    "\n",
    "For example, calling format_number(1000000) should return \"1,000,000\".'''"
   ]
  },
  {
   "cell_type": "code",
   "execution_count": 50,
   "id": "697f2b00",
   "metadata": {},
   "outputs": [
    {
     "name": "stdout",
     "output_type": "stream",
     "text": [
      "2,344,265,353,523.345\n"
     ]
    }
   ],
   "source": [
    "\n",
    "def format_number(number):\n",
    "    number=str(number)\n",
    "    number=list(number)\n",
    "    if ('.' in n)==True:\n",
    "        Index_point=number.index('.')\n",
    "    \n",
    "    while Index_point>=0:\n",
    "        Index_point=Index_point-4\n",
    "        if Index_point>=0:\n",
    "            number.insert(Index_point+1,',')\n",
    "            Index_point=Index_point+1\n",
    "        else:\n",
    "            number=''.join(number)\n",
    "            print(number)\n",
    "    \n",
    "        \n",
    "format_number(2344265353523.345)\n",
    " "
   ]
  },
  {
   "cell_type": "markdown",
   "id": "c09dfd4a",
   "metadata": {},
   "source": [
    "'''8. Write a function to detect 13th Friday. \n",
    "\n",
    "The function can accept two parameters, and both will be numbers. The first parameter \n",
    "will be the number indicating the month, and the second will be the year in four digits. \n",
    "Your function should parse the parameters, and it must return True when the month contains \n",
    "a Friday with the 13th, else return False. '''"
   ]
  },
  {
   "cell_type": "code",
   "execution_count": 8,
   "id": "a90dcd87",
   "metadata": {},
   "outputs": [
    {
     "name": "stdout",
     "output_type": "stream",
     "text": [
      "Enter the month (a number from 1 to 12): 1\n",
      "Enter the year with four digits: 1993\n",
      "The month 1 of the year 1993 has a a Friday with the 13th: False\n"
     ]
    }
   ],
   "source": [
    "from datetime import datetime\n",
    "\n",
    "def the_13_friday_detector(month,year):\n",
    "    #Check if the year is a leap year\n",
    "    #if(year%4==0 and year%100!=0 or year%400==0): \n",
    "    #    leap=1 \n",
    "    #else: \n",
    "    #    leap=0\n",
    "    \n",
    "    dt=datetime(year, month, 13)\n",
    "    day=dt.weekday()\n",
    "    if day==4:#weekday method returns 0 for Monday and 6 for Sunday\n",
    "        return True\n",
    "    else:\n",
    "        return False\n",
    "\n",
    "month = input(\"Enter the month (a number from 1 to 12): \")\n",
    "month = int(month)\n",
    "year = input(\"Enter the year with four digits: \")\n",
    "year = int(year)\n",
    "\n",
    "status=the_13_friday_detector(month, year)\n",
    "\n",
    "print('The month {} of the year {} has a a Friday with the 13th: {}'.format(month, year, status))\n",
    "    \n",
    "    "
   ]
  },
  {
   "cell_type": "markdown",
   "id": "2216e59e",
   "metadata": {},
   "source": [
    "'''9. Checking a text.\n",
    "\n",
    "Check if a text has the two words: def , : . Check also if there are \n",
    "four indentation size spaces.'''"
   ]
  },
  {
   "cell_type": "code",
   "execution_count": null,
   "id": "faff9f5a",
   "metadata": {},
   "outputs": [],
   "source": [
    "f = open(\"text_to_validate.txt\", \"r\")#opening an _io.TextIOWrapper file\n",
    "string = f.read()#convert f into string\n",
    "\n",
    "if ('def' in string)==False:\n",
    "    print('missing def')\n",
    "if (':' in string)==False:\n",
    "    print('missing :')\n",
    "\n",
    "counter=string.count('    ')\n",
    "if counter!=4:\n",
    "    print('missing indent')"
   ]
  }
 ],
 "metadata": {
  "kernelspec": {
   "display_name": "Python 3 (ipykernel)",
   "language": "python",
   "name": "python3"
  },
  "language_info": {
   "codemirror_mode": {
    "name": "ipython",
    "version": 3
   },
   "file_extension": ".py",
   "mimetype": "text/x-python",
   "name": "python",
   "nbconvert_exporter": "python",
   "pygments_lexer": "ipython3",
   "version": "3.10.12"
  }
 },
 "nbformat": 4,
 "nbformat_minor": 5
}
